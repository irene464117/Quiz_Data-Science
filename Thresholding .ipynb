{
 "cells": [
  {
   "cell_type": "code",
   "execution_count": null,
   "id": "e02f9d0b-f120-4c44-9d94-d6a29e5d10b6",
   "metadata": {},
   "outputs": [],
   "source": [
    "import cv2\n",
    "\n",
    "# Baca citra grayscale\n",
    "img = cv2.imread('C:/Users/asus vivobook/w03s02_data science/citra_grayscale.jpeg', cv2.IMREAD_GRAYSCALE)\n",
    "\n",
    "# Tentukan nilai ambang\n",
    "threshold = 128\n",
    "\n",
    "# Binarisasi dengan thresholding global\n",
    "img_binarized = cv2.threshold(img, threshold, 255, cv2.THRESH_BINARY)[1]\n",
    "\n",
    "# Tampilkan citra asli dan hasil binarisasia\n",
    "cv2.imshow('Citra Asli', img)\n",
    "cv2.imshow('Citra Binarisasi', img_binarized)\n",
    "cv2.waitKey(0)\n",
    "cv2.destroyAllWindows()\n"
   ]
  },
  {
   "cell_type": "code",
   "execution_count": null,
   "id": "7936161d-9479-44d9-888d-4fc46fe522ce",
   "metadata": {},
   "outputs": [],
   "source": []
  }
 ],
 "metadata": {
  "kernelspec": {
   "display_name": "Python 3 (ipykernel)",
   "language": "python",
   "name": "python3"
  },
  "language_info": {
   "codemirror_mode": {
    "name": "ipython",
    "version": 3
   },
   "file_extension": ".py",
   "mimetype": "text/x-python",
   "name": "python",
   "nbconvert_exporter": "python",
   "pygments_lexer": "ipython3",
   "version": "3.12.4"
  }
 },
 "nbformat": 4,
 "nbformat_minor": 5
}
