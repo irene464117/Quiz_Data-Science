{
 "cells": [
  {
   "cell_type": "code",
   "execution_count": null,
   "id": "5c85fbde-926c-4000-9de3-b19640152bbd",
   "metadata": {},
   "outputs": [],
   "source": [
    "import cv2\n",
    "import numpy as np\n",
    "\n",
    "def niblack_thresholding(img_gray, window_size, k):\n",
    "  \"\"\"\n",
    "  Menerapkan thresholding Niblack pada citra grayscale.\n",
    "\n",
    "  Args:\n",
    "    img_gray: Citra grayscale (numpy array).\n",
    "    window_size: Ukuran window (neighborhood) (integer ganjil).\n",
    "    k: Parameter Niblack (float).\n",
    "\n",
    "  Returns:\n",
    "    Citra biner hasil thresholding (numpy array).\n",
    "  \"\"\"\n",
    "  h, w = img_gray.shape\n",
    "  img_binarized = np.zeros((h, w), dtype=np.uint8)\n",
    "\n",
    "  padding = window_size // 2\n",
    "  img_padded = np.pad(img_gray, padding, mode='reflect') # Penting untuk menangani batas citra\n",
    "\n",
    "  for i in range(h):\n",
    "    for j in range(w):\n",
    "      window = img_padded[i:i + window_size, j:j + window_size]\n",
    "      m = np.mean(window)\n",
    "      s = np.std(window)\n",
    "      threshold = m + k * s\n",
    "      img_binarized[i, j] = 255 if img_gray[i, j] >= threshold else 0\n",
    "\n",
    "  return img_binarized\n",
    "\n",
    "# Contoh Penggunaan\n",
    "img = cv2.imread('C:/Users/asus vivobook/w03s02_data science/citra_grayscale.jpeg', cv2.IMREAD_GRAYSCALE)\n",
    "window_size = 15\n",
    "k = -0.2\n",
    "img_binarized = niblack_thresholding(img, window_size, k)\n",
    "\n",
    "cv2.imshow('Citra Asli', img)\n",
    "cv2.imshow('Citra Binarisasi Niblack', img_binarized)\n",
    "cv2.waitKey(0)\n",
    "cv2.destroyAllWindows()\n"
   ]
  },
  {
   "cell_type": "code",
   "execution_count": null,
   "id": "d1f8ca8c-34ff-4236-a625-d5f420d3a9ff",
   "metadata": {},
   "outputs": [],
   "source": []
  }
 ],
 "metadata": {
  "kernelspec": {
   "display_name": "Python 3 (ipykernel)",
   "language": "python",
   "name": "python3"
  },
  "language_info": {
   "codemirror_mode": {
    "name": "ipython",
    "version": 3
   },
   "file_extension": ".py",
   "mimetype": "text/x-python",
   "name": "python",
   "nbconvert_exporter": "python",
   "pygments_lexer": "ipython3",
   "version": "3.12.4"
  }
 },
 "nbformat": 4,
 "nbformat_minor": 5
}
