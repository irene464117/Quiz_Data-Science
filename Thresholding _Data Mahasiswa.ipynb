{
 "cells": [
  {
   "cell_type": "code",
   "execution_count": 1,
   "id": "2e414ece-f2e8-47c9-ae45-904e68f1e2a8",
   "metadata": {},
   "outputs": [
    {
     "name": "stdout",
     "output_type": "stream",
     "text": [
      "          Nama Lengkap Mahasiswa  Programming Skill Kategori Skill\n",
      "0                            NaN                 43       Menengah\n",
      "1  Samuel Saut Royzeki Aritonang                 70       Menengah\n",
      "2            Calvin Josep Silaen                 42       Menengah\n",
      "3                Indah Silitonga                 36         Pemula\n",
      "4             Asri Yohana Sirait                 56       Menengah\n"
     ]
    }
   ],
   "source": [
    "import pandas as pd\n",
    "\n",
    "# Path file dataset\n",
    "file_path = r\"C:/Users/asus vivobook/w03s02_data science/Data_Mahasiswa.csv\"\n",
    "\n",
    "# Mendeteksi delimiter yang digunakan dalam file\n",
    "import csv\n",
    "with open(file_path, 'r', encoding='utf-8') as f:\n",
    "    delimiter = csv.Sniffer().sniff(f.readline()).delimiter\n",
    "\n",
    "# Membaca dataset dengan delimiter yang sesuai\n",
    "df = pd.read_csv(file_path, delimiter=delimiter)\n",
    "\n",
    "# Menyalin dataframe untuk diproses\n",
    "df_thresholding = df.copy()\n",
    "\n",
    "# Mengonversi kolom \"Programming Skill\" ke numerik\n",
    "df_thresholding[\"Programming Skill\"] = pd.to_numeric(df_thresholding[\"Programming Skill\"], errors=\"coerce\")\n",
    "\n",
    "# Menambahkan kategori berdasarkan threshold\n",
    "def categorize_skill(value):\n",
    "    if pd.isna(value):\n",
    "        return \"Tidak Diketahui\"\n",
    "    elif value <= 40:\n",
    "        return \"Pemula\"\n",
    "    elif value <= 70:\n",
    "        return \"Menengah\"\n",
    "    else:\n",
    "        return \"Mahir\"\n",
    "\n",
    "df_thresholding[\"Kategori Skill\"] = df_thresholding[\"Programming Skill\"].apply(categorize_skill)\n",
    "\n",
    "# Menampilkan hasil\n",
    "print(df_thresholding[[\"Nama Lengkap Mahasiswa\", \"Programming Skill\", \"Kategori Skill\"]].head())\n"
   ]
  },
  {
   "cell_type": "code",
   "execution_count": null,
   "id": "c4ba5379-275a-4318-ac15-39b42a1e74ae",
   "metadata": {},
   "outputs": [],
   "source": []
  }
 ],
 "metadata": {
  "kernelspec": {
   "display_name": "Python 3 (ipykernel)",
   "language": "python",
   "name": "python3"
  },
  "language_info": {
   "codemirror_mode": {
    "name": "ipython",
    "version": 3
   },
   "file_extension": ".py",
   "mimetype": "text/x-python",
   "name": "python",
   "nbconvert_exporter": "python",
   "pygments_lexer": "ipython3",
   "version": "3.12.4"
  }
 },
 "nbformat": 4,
 "nbformat_minor": 5
}
