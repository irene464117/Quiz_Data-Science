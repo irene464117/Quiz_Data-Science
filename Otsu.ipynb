{
 "cells": [
  {
   "cell_type": "code",
   "execution_count": null,
   "id": "e19cb00c-461e-4722-90b2-079f833b9250",
   "metadata": {},
   "outputs": [],
   "source": [
    "import cv2\n",
    "\n",
    "# Baca citra grayscale\n",
    "img = cv2.imread('C:/Users/asus vivobook/w03s02_data science/grey.png', cv2.IMREAD_GRAYSCALE)\n",
    "\n",
    "# Binarisasi dengan metode Otsu\n",
    "ret, img_binarized = cv2.threshold(img, 0, 255, cv2.THRESH_BINARY + cv2.THRESH_OTSU)\n",
    "\n",
    "# Tampilkan citra asli dan hasil binarisasi\n",
    "cv2.imshow('Citra Asli', img)\n",
    "cv2.imshow('Citra Binarisasi', img_binarized)\n",
    "cv2.waitKey(0)\n",
    "cv2.destroyAllWindows()\n"
   ]
  },
  {
   "cell_type": "code",
   "execution_count": null,
   "id": "93fe3998-9fc2-44a3-938e-292043d2c0bd",
   "metadata": {},
   "outputs": [],
   "source": []
  }
 ],
 "metadata": {
  "kernelspec": {
   "display_name": "Python 3 (ipykernel)",
   "language": "python",
   "name": "python3"
  },
  "language_info": {
   "codemirror_mode": {
    "name": "ipython",
    "version": 3
   },
   "file_extension": ".py",
   "mimetype": "text/x-python",
   "name": "python",
   "nbconvert_exporter": "python",
   "pygments_lexer": "ipython3",
   "version": "3.12.4"
  }
 },
 "nbformat": 4,
 "nbformat_minor": 5
}
